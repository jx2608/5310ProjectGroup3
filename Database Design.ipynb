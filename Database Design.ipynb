{
 "cells": [
  {
   "cell_type": "markdown",
   "id": "e970108a-f361-4f38-b670-e6bd355c19d6",
   "metadata": {},
   "source": [
    "## Connect to PostgreSQL database"
   ]
  },
  {
   "cell_type": "code",
   "execution_count": 1,
   "id": "a791cd9b-1308-4892-9e20-a8e0cbf950ea",
   "metadata": {},
   "outputs": [
    {
     "name": "stdout",
     "output_type": "stream",
     "text": [
      "Connection successful!\n"
     ]
    }
   ],
   "source": [
    "import psycopg2\n",
    "\n",
    "try:\n",
    "    conn = psycopg2.connect(\n",
    "        dbname=\"project\", \n",
    "        user=\"postgres\",       \n",
    "        password=\"123\",   \n",
    "        host=\"localhost\",          \n",
    "        port=\"5432\"                \n",
    "    )\n",
    "    print(\"Connection successful!\")\n",
    "except Exception as e:\n",
    "    print(f\"Connection failed: {e}\")\n",
    "    \n",
    "cur = conn.cursor()"
   ]
  },
  {
   "cell_type": "markdown",
   "id": "8687118c-86bc-4803-8c96-3ef2decb920f",
   "metadata": {},
   "source": [
    "## Create Tables in Database"
   ]
  },
  {
   "cell_type": "code",
   "execution_count": 2,
   "id": "f392059b-2d9a-4595-a7fc-787069fc074a",
   "metadata": {},
   "outputs": [],
   "source": [
    "drop_tables = \"\"\"\n",
    "DROP TABLE IF EXISTS Delivery_Items      CASCADE;\n",
    "DROP TABLE IF EXISTS Deliveries          CASCADE;\n",
    "DROP TABLE IF EXISTS Transaction_Items   CASCADE;\n",
    "DROP TABLE IF EXISTS Payments            CASCADE;\n",
    "DROP TABLE IF EXISTS Order_Items         CASCADE;\n",
    "DROP TABLE IF EXISTS Orders              CASCADE;\n",
    "DROP TABLE IF EXISTS Inventory           CASCADE;\n",
    "DROP TABLE IF EXISTS Shifts              CASCADE;\n",
    "DROP TABLE IF EXISTS Promotions          CASCADE;\n",
    "DROP TABLE IF EXISTS Vendor_Products     CASCADE;\n",
    "DROP TABLE IF EXISTS Sales_Transactions  CASCADE;\n",
    "DROP TABLE IF EXISTS Customers           CASCADE;\n",
    "DROP TABLE IF EXISTS Employees           CASCADE;\n",
    "DROP TABLE IF EXISTS Products            CASCADE;\n",
    "DROP TABLE IF EXISTS Vendors             CASCADE;\n",
    "DROP TABLE IF EXISTS Stores              CASCADE;\n",
    "\"\"\"\n",
    "cur.execute(drop_tables)\n",
    "conn.commit()"
   ]
  },
  {
   "cell_type": "markdown",
   "id": "ebf78d62-f239-4829-9624-b0487d2f7c33",
   "metadata": {},
   "source": [
    "#### 1. Create Stores Table"
   ]
  },
  {
   "cell_type": "code",
   "execution_count": 3,
   "id": "0c9ad9fd-3560-45bf-9203-21ccca22493c",
   "metadata": {},
   "outputs": [],
   "source": [
    "create_stores_table = \"\"\"\n",
    "CREATE TABLE Stores (\n",
    "    store_id \t\tSERIAL \t\t\tPRIMARY KEY,\n",
    "    name \t\t\tVARCHAR(100) \tNOT NULL,\n",
    "    address \t\tVARCHAR(255),\n",
    "    opening_date \tDATE   \n",
    ");\n",
    "\"\"\"\n",
    "cur.execute(create_stores_table)\n",
    "conn.commit()"
   ]
  },
  {
   "cell_type": "markdown",
   "id": "de3980a9-71e6-427a-9559-2c7e9fae235f",
   "metadata": {},
   "source": [
    "#### 2. Create Products Table"
   ]
  },
  {
   "cell_type": "code",
   "execution_count": 4,
   "id": "44b618f8-cdf9-487a-901d-9f7f4366e3e1",
   "metadata": {},
   "outputs": [],
   "source": [
    "create_products_table = \"\"\"\n",
    "CREATE TABLE Products (\n",
    "    product_id \t\tSERIAL \t\t\tPRIMARY KEY,\n",
    "    name \t\t\tVARCHAR(100) \tNOT NULL,\n",
    "    category \t\tVARCHAR(50),\n",
    "    unit_price \t\tNUMERIC(10, 2) \tNOT NULL,\n",
    "    stock_unit \t\tVARCHAR(20)\n",
    ");\n",
    "\"\"\"\n",
    "cur.execute(create_products_table)\n",
    "conn.commit()"
   ]
  },
  {
   "cell_type": "markdown",
   "id": "bc6940ab-a5e8-4b12-b592-e4365d00501b",
   "metadata": {},
   "source": [
    "#### 3. Create Vendors Table"
   ]
  },
  {
   "cell_type": "code",
   "execution_count": 5,
   "id": "299b818c-016f-4b9c-94b9-3c51722b5805",
   "metadata": {},
   "outputs": [],
   "source": [
    "create_vendors_table = \"\"\"\n",
    "CREATE TABLE Vendors (\n",
    "    vendor_id \t\tSERIAL \t\t\tPRIMARY KEY,\n",
    "    name \t\t\tVARCHAR(100) \tNOT NULL,\n",
    "    contact_info \tVARCHAR(255),\n",
    "    rating \t\t\tNUMERIC(2, 1)\n",
    ");\n",
    "\"\"\"\n",
    "cur.execute(create_vendors_table)\n",
    "conn.commit()"
   ]
  },
  {
   "cell_type": "markdown",
   "id": "42be4c05-b7eb-4cd7-9009-5e6f251059f7",
   "metadata": {},
   "source": [
    "#### 4. Create Vendor_Products Table (Many-to-Many Relationship)"
   ]
  },
  {
   "cell_type": "code",
   "execution_count": 6,
   "id": "7d9e15f0-77e1-40d8-b8a3-a2f4629a21be",
   "metadata": {},
   "outputs": [],
   "source": [
    "create_vendor_products_table = \"\"\"\n",
    "CREATE TABLE Vendor_Products (\n",
    "    id        \t\tSERIAL \t\t\tPRIMARY KEY,\n",
    "    vendor_id  \t\tINT \t\t\tNOT NULL,\n",
    "    product_id \t\tINT \t\t\tNOT NULL,\n",
    "    FOREIGN KEY (vendor_id)  REFERENCES Vendors(vendor_id) ON DELETE CASCADE,\n",
    "    FOREIGN KEY (product_id) REFERENCES Products(product_id) ON DELETE CASCADE,\n",
    "\tUNIQUE (vendor_id, product_id)\n",
    ");\n",
    "\"\"\"\n",
    "cur.execute(create_vendor_products_table)\n",
    "conn.commit()"
   ]
  },
  {
   "cell_type": "markdown",
   "id": "67a8cb20-97c2-4600-a0e0-d3640d8f9139",
   "metadata": {},
   "source": [
    "#### 5. Create Employees Table"
   ]
  },
  {
   "cell_type": "code",
   "execution_count": 7,
   "id": "e5d37c4b-2af1-41b4-9048-2a2a216904c0",
   "metadata": {},
   "outputs": [],
   "source": [
    "create_employees_table = \"\"\"\n",
    "CREATE TABLE Employees (\n",
    "    employee_id \tSERIAL \t\t\tPRIMARY KEY,\n",
    "    first_name  \tVARCHAR(50) \tNOT NULL,\n",
    "    last_name\t\tVARCHAR(50) \tNOT NULL,\n",
    "    role\t\t\tVARCHAR(50),\n",
    "    hire_date\t\tDATE,\n",
    "\tleave_date \t\tDATE,\n",
    "    store_id    \tINT,\n",
    "    FOREIGN KEY (store_id) REFERENCES Stores(store_id) ON DELETE SET NULL\n",
    ");\n",
    "\"\"\"\n",
    "cur.execute(create_employees_table)\n",
    "conn.commit()"
   ]
  },
  {
   "cell_type": "markdown",
   "id": "86d0a8eb-09bb-4e8c-aba1-64ff9f879132",
   "metadata": {},
   "source": [
    "#### 6. Create Customers Table"
   ]
  },
  {
   "cell_type": "code",
   "execution_count": 8,
   "id": "69c08ceb-abe9-46c9-aeb3-657f15045af9",
   "metadata": {},
   "outputs": [],
   "source": [
    "create_customers_table = \"\"\"\n",
    "CREATE TABLE Customers (\n",
    "    customer_id \tSERIAL \t\t\tPRIMARY KEY,\n",
    "    first_name \t\tVARCHAR(50) \tNOT NULL,\n",
    "    last_name \t\tVARCHAR(50) \tNOT NULL,\n",
    "    email \t\t\tVARCHAR(100) \tUNIQUE,\n",
    "    phone_number \tVARCHAR(50),\n",
    "    membership_level VARCHAR(50) \tDEFAULT 'Standard'\n",
    ");\n",
    "\"\"\"\n",
    "cur.execute(create_customers_table)\n",
    "conn.commit()"
   ]
  },
  {
   "cell_type": "markdown",
   "id": "f1d97330-2d34-4643-9fb0-81a259e9b6db",
   "metadata": {},
   "source": [
    "#### 7. Create Sales_Transactions Table"
   ]
  },
  {
   "cell_type": "code",
   "execution_count": 9,
   "id": "672f007e-6cfa-4067-b633-3926d15a94b9",
   "metadata": {},
   "outputs": [],
   "source": [
    "create_sales_transactions_table = \"\"\"\n",
    "CREATE TABLE Sales_Transactions (\n",
    "    transaction_id\tSERIAL \t\t\tPRIMARY KEY,\n",
    "    store_id\t\tINT \t\t\tNOT NULL,\n",
    "    employee_id     INT\t\t\t\tNOT NULL,\n",
    "    customer_id     INT,\n",
    "    transaction_date TIMESTAMP \t\tNOT NULL,\n",
    "    total_amount\tNUMERIC(10,2) \tNOT NULL,\n",
    "    FOREIGN KEY (store_id)    REFERENCES Stores(store_id) ON DELETE RESTRICT,\n",
    "    FOREIGN KEY (employee_id) REFERENCES Employees(employee_id) ON DELETE SET NULL,\n",
    "    FOREIGN KEY (customer_id) REFERENCES Customers(customer_id) ON DELETE SET NULL\n",
    ");\n",
    "\"\"\"\n",
    "cur.execute(create_sales_transactions_table)\n",
    "conn.commit()"
   ]
  },
  {
   "cell_type": "markdown",
   "id": "842ad0b9-1984-474d-b184-18dd05c81707",
   "metadata": {},
   "source": [
    "#### 8. Create Transaction_Items Table"
   ]
  },
  {
   "cell_type": "code",
   "execution_count": 10,
   "id": "d89c0a50-593d-4ad7-8377-13fcc34a384a",
   "metadata": {},
   "outputs": [],
   "source": [
    "create_transaction_items_table = \"\"\"\n",
    "CREATE TABLE Transaction_Items (\n",
    "\tid             \tSERIAL \t\t\tPRIMARY KEY,\n",
    "    transaction_id \tINT \t\t\tNOT NULL,\n",
    "    product_id     \tINT \t\t\tNOT NULL,\n",
    "    quantity      \tINT \t\t\tNOT NULL,\n",
    "    unit_price     \tNUMERIC(10,2) \tNOT NULL,\n",
    "    FOREIGN KEY (transaction_id) REFERENCES Sales_Transactions(transaction_id) ON DELETE CASCADE,\n",
    "    FOREIGN KEY (product_id)     REFERENCES Products(product_id) ON DELETE RESTRICT,\n",
    "\tUNIQUE (transaction_id, product_id)\n",
    ");\n",
    "\"\"\"\n",
    "cur.execute(create_transaction_items_table)\n",
    "conn.commit()"
   ]
  },
  {
   "cell_type": "markdown",
   "id": "8585c5c9-f0da-4983-b268-ea1ff52f5a5e",
   "metadata": {},
   "source": [
    "#### 9. Create Orders Table"
   ]
  },
  {
   "cell_type": "code",
   "execution_count": 11,
   "id": "f2fdbd4b-abc3-4e7b-a5ff-d2a3e046ce70",
   "metadata": {},
   "outputs": [],
   "source": [
    "create_orders_table = \"\"\"\n",
    "CREATE TABLE Orders (\n",
    "    order_id   \t\tSERIAL \t\t\tPRIMARY KEY,\n",
    "    vendor_id  \t\tINT \t\t\tNOT NULL,\n",
    "    order_date \t\tDATE \t\t\tNOT NULL,\n",
    "    status     \t\tVARCHAR(20) \tDEFAULT 'Pending',\n",
    "    FOREIGN KEY (vendor_id) REFERENCES Vendors(vendor_id) ON DELETE RESTRICT\n",
    ");\n",
    "\"\"\"\n",
    "cur.execute(create_orders_table)\n",
    "conn.commit()"
   ]
  },
  {
   "cell_type": "markdown",
   "id": "b3b6ae91-b57e-4670-bd4a-eb7a390c4f80",
   "metadata": {},
   "source": [
    "#### 10. Create Order_Items Table"
   ]
  },
  {
   "cell_type": "code",
   "execution_count": 12,
   "id": "c5911d99-6729-44c5-a9e6-287a526e7f26",
   "metadata": {},
   "outputs": [],
   "source": [
    "create_order_items_table = \"\"\"\n",
    "CREATE TABLE Order_Items (\n",
    "    id         \t\tSERIAL \t\t\tPRIMARY KEY,\n",
    "    order_id   \t\tINT \t\t\tNOT NULL,\n",
    "    product_id \t\tINT \t\t\tNOT NULL,\n",
    "    quantity   \t\tINT \t\t\tNOT NULL,\n",
    "    unit_price \t\tNUMERIC(10,2) \tNOT NULL,\n",
    "    FOREIGN KEY (order_id)   REFERENCES Orders(order_id) ON DELETE CASCADE,\n",
    "    FOREIGN KEY (product_id) REFERENCES Products(product_id) ON DELETE RESTRICT\n",
    ");\n",
    "\"\"\"\n",
    "cur.execute(create_order_items_table)\n",
    "conn.commit()"
   ]
  },
  {
   "cell_type": "markdown",
   "id": "82ef00bc-3d16-4983-a5c5-4133285bd5a8",
   "metadata": {},
   "source": [
    "#### 11. Create Deliveries Table"
   ]
  },
  {
   "cell_type": "code",
   "execution_count": 13,
   "id": "f7937673-e43e-456c-b8c3-d800c6be1a17",
   "metadata": {},
   "outputs": [],
   "source": [
    "create_deliveries_table = \"\"\"\n",
    "CREATE TABLE Deliveries (\n",
    "    delivery_id   \tSERIAL     \t\tPRIMARY KEY,\n",
    "    order_id      \tINT        \t\tNOT NULL,\n",
    "    store_id      \tINT        \t\tNOT NULL,\n",
    "    delivered_at  \tTIMESTAMP  \t\tNOT NULL,\n",
    "    status        \tVARCHAR(20),\n",
    "    FOREIGN KEY (order_id) REFERENCES Orders(order_id) ON DELETE CASCADE,\n",
    "    FOREIGN KEY (store_id) REFERENCES Stores(store_id) ON DELETE RESTRICT\n",
    ");\n",
    "\"\"\"\n",
    "cur.execute(create_deliveries_table)\n",
    "conn.commit()"
   ]
  },
  {
   "cell_type": "markdown",
   "id": "10efbcbe-f39d-4ad8-982a-00fd23499763",
   "metadata": {},
   "source": [
    "#### 12. Create Delivery_Items Table"
   ]
  },
  {
   "cell_type": "code",
   "execution_count": 14,
   "id": "eb94ec90-7c9a-4eda-b4de-e00cee9fe3b8",
   "metadata": {},
   "outputs": [],
   "source": [
    "create_delivery_items_table = \"\"\"\n",
    "CREATE TABLE Delivery_Items (\n",
    "    id                 SERIAL \t\tPRIMARY KEY,\n",
    "    delivery_id        INT \t\t\tNOT NULL,\n",
    "    order_item_id      INT \t\t\tNOT NULL,\n",
    "    quantity_delivered INT \t\t\tNOT NULL,\n",
    "    FOREIGN KEY (delivery_id)  REFERENCES Deliveries(delivery_id) ON DELETE CASCADE,\n",
    "    FOREIGN KEY (order_item_id) REFERENCES Order_Items(id)        ON DELETE RESTRICT,\n",
    "    UNIQUE (delivery_id, order_item_id)\n",
    ");\n",
    "\"\"\"\n",
    "cur.execute(create_delivery_items_table)\n",
    "conn.commit()"
   ]
  },
  {
   "cell_type": "markdown",
   "id": "41c86d2a-0774-4b2f-b955-220da8e373bd",
   "metadata": {},
   "source": [
    "#### 13. Create Inventory Table"
   ]
  },
  {
   "cell_type": "code",
   "execution_count": 15,
   "id": "c8801557-feca-4f5a-b42a-07cb1fbfff1b",
   "metadata": {},
   "outputs": [],
   "source": [
    "create_inventory_table = \"\"\"\n",
    "CREATE TABLE Inventory (\n",
    "    inventory_id \tSERIAL \t\t\tPRIMARY KEY,\n",
    "    store_id     \tINT \t\t\tNOT NULL,\n",
    "    product_id   \tINT \t\t\tNOT NULL,\n",
    "    quantity     \tINT \t\t\tNOT NULL DEFAULT 0,\n",
    "    last_updated \tDATE \t\t\tDEFAULT CURRENT_DATE,\n",
    "    FOREIGN KEY (store_id)   REFERENCES Stores(store_id) ON DELETE CASCADE,\n",
    "    FOREIGN KEY (product_id) REFERENCES Products(product_id) ON DELETE CASCADE,\n",
    "\tUNIQUE (store_id, product_id)\n",
    ");\n",
    "\"\"\"\n",
    "cur.execute(create_inventory_table)\n",
    "conn.commit()"
   ]
  },
  {
   "cell_type": "markdown",
   "id": "809b01f4-7271-4a5d-aae0-8409287671c1",
   "metadata": {},
   "source": [
    "#### 14. Create Shifts Table"
   ]
  },
  {
   "cell_type": "code",
   "execution_count": 16,
   "id": "9bda8737-e37e-4a34-8130-4cd038aeb297",
   "metadata": {},
   "outputs": [],
   "source": [
    "create_shifts_table = \"\"\"\n",
    "CREATE TABLE Shifts (\n",
    "\tshift_id   \t\tSERIAL \t\t\tPRIMARY KEY,\n",
    "    employee_id \tINT \t\t\tNOT NULL,\n",
    "    store_id    \tINT \t\t\tNOT NULL,\n",
    "    start_time    \tTIMESTAMP \t\tNOT NULL,\n",
    "    end_time      \tTIMESTAMP \t\tNOT NULL,\n",
    "    FOREIGN KEY (employee_id) REFERENCES Employees(employee_id) ON DELETE CASCADE,\n",
    "    FOREIGN KEY (store_id)    REFERENCES Stores(store_id) ON DELETE CASCADE\n",
    ");\n",
    "\"\"\"\n",
    "cur.execute(create_shifts_table)\n",
    "conn.commit()"
   ]
  },
  {
   "cell_type": "markdown",
   "id": "d8909fda-633f-443c-aa7e-76fc6e6cb4bf",
   "metadata": {},
   "source": [
    "#### 15. Create Payments Table"
   ]
  },
  {
   "cell_type": "code",
   "execution_count": 17,
   "id": "d98c9926-dbcb-4348-8f42-704b57fa9e6b",
   "metadata": {},
   "outputs": [],
   "source": [
    "create_payments_table = \"\"\"\n",
    "CREATE TABLE Payments (\n",
    "    payment_id     \tSERIAL \t\t\tPRIMARY KEY,\n",
    "    transaction_id \tINT \t\t\tNOT NULL,\n",
    "    payment_method \tVARCHAR(50) \tNOT NULL,\n",
    "    amount         \tNUMERIC(10,2) \tNOT NULL,\n",
    "    payment_date   \tTIMESTAMP,\n",
    "\tstatus         \tVARCHAR(20) \tDEFAULT 'captured',  -- 'captured','void','refunded','pending'\n",
    "    FOREIGN KEY (transaction_id) REFERENCES Sales_Transactions(transaction_id) ON DELETE CASCADE\n",
    ");\n",
    "\"\"\"\n",
    "cur.execute(create_payments_table)\n",
    "conn.commit()"
   ]
  },
  {
   "cell_type": "markdown",
   "id": "182e833a-ba54-40b5-b24d-cfbb0ee21207",
   "metadata": {},
   "source": [
    "#### 16. Create Promotions Table"
   ]
  },
  {
   "cell_type": "code",
   "execution_count": 18,
   "id": "2bfb7fc8",
   "metadata": {},
   "outputs": [],
   "source": [
    "create_promotions_table = \"\"\"\n",
    "CREATE TABLE Promotions (\n",
    "    promo_id      \tSERIAL \t\t\tPRIMARY KEY,\n",
    "    product_id    \tINT \t\t\tNOT NULL,\n",
    "    discount_rate \tNUMERIC(4,2),\n",
    "    start_date    \tDATE \t\t\tNOT NULL,\n",
    "    end_date      \tDATE \t\t\tNOT NULL,\n",
    "    FOREIGN KEY (product_id) REFERENCES Products(product_id) ON DELETE CASCADE\n",
    ");\n",
    "\"\"\"\n",
    "cur.execute(create_promotions_table)\n",
    "conn.commit()"
   ]
  },
  {
   "cell_type": "markdown",
   "id": "7ae623ec-93e8-4a36-a347-0a85d8c0ab01",
   "metadata": {},
   "source": [
    "### Triggers"
   ]
  },
  {
   "cell_type": "code",
   "execution_count": 19,
   "id": "df6e0547-6629-434a-b555-c725e399c231",
   "metadata": {},
   "outputs": [],
   "source": [
    "check_inventory = \"\"\"\n",
    "CREATE OR REPLACE FUNCTION check_inventory_quantity_not_negative()\n",
    "RETURNS TRIGGER AS $$\n",
    "BEGIN\n",
    "    IF NEW.quantity < 0 THEN\n",
    "        RAISE EXCEPTION 'Inventory cannot be negative for % (attempted: %)', TG_TABLE_NAME, NEW.quantity;\n",
    "    END IF;\n",
    "    RETURN NEW;\n",
    "END;\n",
    "$$ LANGUAGE plpgsql;\n",
    "\n",
    "DROP TRIGGER IF EXISTS inventory_quantity_not_negative_trigger ON Inventory;\n",
    "\n",
    "CREATE TRIGGER inventory_quantity_not_negative_trigger\n",
    "BEFORE INSERT OR UPDATE ON Inventory\n",
    "FOR EACH ROW\n",
    "EXECUTE FUNCTION check_inventory_quantity_not_negative();\n",
    "\"\"\"\n",
    "\n",
    "cur.execute(check_inventory)\n",
    "conn.commit()"
   ]
  },
  {
   "cell_type": "markdown",
   "id": "b353b15e-fd25-4050-af5f-2755edfcd1a3",
   "metadata": {},
   "source": [
    "#### SALES: subtract inventory when items are sold"
   ]
  },
  {
   "cell_type": "code",
   "execution_count": 20,
   "id": "5a537b7c-559a-4f7b-bfbf-11b215e52625",
   "metadata": {},
   "outputs": [],
   "source": [
    "sales_trigger = \"\"\"\n",
    "CREATE OR REPLACE FUNCTION inv_on_tx_items()\n",
    "RETURNS TRIGGER AS $$\n",
    "DECLARE\n",
    "  s INT;  -- store\n",
    "BEGIN\n",
    "  IF TG_OP = 'INSERT' THEN\n",
    "    SELECT store_id INTO s FROM Sales_Transactions WHERE transaction_id = NEW.transaction_id;\n",
    "    -- subtract; make row if missing\n",
    "    UPDATE Inventory SET quantity = quantity - NEW.quantity, last_updated = CURRENT_DATE\n",
    "      WHERE store_id = s AND product_id = NEW.product_id;\n",
    "    IF NOT FOUND THEN\n",
    "      INSERT INTO Inventory (store_id, product_id, quantity, last_updated)\n",
    "      VALUES (s, NEW.product_id, 0, CURRENT_DATE);\n",
    "      UPDATE Inventory SET quantity = quantity - NEW.quantity, last_updated = CURRENT_DATE\n",
    "        WHERE store_id = s AND product_id = NEW.product_id;\n",
    "    END IF;\n",
    "    RETURN NEW;\n",
    "\n",
    "  ELSIF TG_OP = 'DELETE' THEN\n",
    "    SELECT store_id INTO s FROM Sales_Transactions WHERE transaction_id = OLD.transaction_id;\n",
    "    UPDATE Inventory SET quantity = quantity + OLD.quantity, last_updated = CURRENT_DATE\n",
    "      WHERE store_id = s AND product_id = OLD.product_id;\n",
    "    RETURN OLD;\n",
    "\n",
    "  ELSE  -- UPDATE: add back old, subtract new (covers store/product change too)\n",
    "    SELECT store_id INTO s FROM Sales_Transactions WHERE transaction_id = OLD.transaction_id;\n",
    "    UPDATE Inventory SET quantity = quantity + OLD.quantity, last_updated = CURRENT_DATE\n",
    "      WHERE store_id = s AND product_id = OLD.product_id;\n",
    "\n",
    "    SELECT store_id INTO s FROM Sales_Transactions WHERE transaction_id = NEW.transaction_id;\n",
    "    UPDATE Inventory SET quantity = quantity - NEW.quantity, last_updated = CURRENT_DATE\n",
    "      WHERE store_id = s AND product_id = NEW.product_id;\n",
    "    IF NOT FOUND THEN\n",
    "      INSERT INTO Inventory (store_id, product_id, quantity, last_updated)\n",
    "      VALUES (s, NEW.product_id, 0, CURRENT_DATE);\n",
    "      UPDATE Inventory SET quantity = quantity - NEW.quantity, last_updated = CURRENT_DATE\n",
    "        WHERE store_id = s AND product_id = NEW.product_id;\n",
    "    END IF;\n",
    "    RETURN NEW;\n",
    "  END IF;\n",
    "END;\n",
    "$$ LANGUAGE plpgsql;\n",
    "\n",
    "DROP TRIGGER IF EXISTS trg_tx_items_inv ON Transaction_Items;\n",
    "CREATE TRIGGER trg_tx_items_inv\n",
    "AFTER INSERT OR UPDATE OR DELETE ON Transaction_Items\n",
    "FOR EACH ROW EXECUTE FUNCTION inv_on_tx_items();\n",
    "\"\"\"\n",
    "cur.execute(sales_trigger)\n",
    "conn.commit()"
   ]
  },
  {
   "cell_type": "markdown",
   "id": "b1812509-559c-4ab3-a3b7-7cd6dd14ce85",
   "metadata": {},
   "source": [
    "#### RECEIPTS: add inventory when items are delivered"
   ]
  },
  {
   "cell_type": "code",
   "execution_count": 21,
   "id": "44488edb-ed02-4de8-9534-59aa101843ed",
   "metadata": {},
   "outputs": [],
   "source": [
    "delivery_trigger = \"\"\"\n",
    "CREATE OR REPLACE FUNCTION inv_on_delivery_items()\n",
    "RETURNS TRIGGER AS $$\n",
    "DECLARE\n",
    "  s INT;   -- store\n",
    "  p INT;   -- product\n",
    "BEGIN\n",
    "  IF TG_OP = 'INSERT' THEN\n",
    "    SELECT d.store_id INTO s FROM Deliveries d WHERE d.delivery_id = NEW.delivery_id;\n",
    "    SELECT oi.product_id INTO p FROM Order_Items oi WHERE oi.id = NEW.order_item_id;\n",
    "\n",
    "    UPDATE Inventory SET quantity = quantity + NEW.quantity_delivered, last_updated = CURRENT_DATE\n",
    "      WHERE store_id = s AND product_id = p;\n",
    "    IF NOT FOUND THEN\n",
    "      INSERT INTO Inventory (store_id, product_id, quantity, last_updated)\n",
    "      VALUES (s, p, NEW.quantity_delivered, CURRENT_DATE);\n",
    "    END IF;\n",
    "    RETURN NEW;\n",
    "\n",
    "  ELSIF TG_OP = 'DELETE' THEN\n",
    "    SELECT d.store_id INTO s FROM Deliveries d WHERE d.delivery_id = OLD.delivery_id;\n",
    "    SELECT oi.product_id INTO p FROM Order_Items oi WHERE oi.id = OLD.order_item_id;\n",
    "\n",
    "    UPDATE Inventory SET quantity = quantity - OLD.quantity_delivered, last_updated = CURRENT_DATE\n",
    "      WHERE store_id = s AND product_id = p;\n",
    "    RETURN OLD;\n",
    "\n",
    "  ELSE  -- UPDATE\n",
    "    -- remove old\n",
    "    SELECT d.store_id INTO s FROM Deliveries d WHERE d.delivery_id = OLD.delivery_id;\n",
    "    SELECT oi.product_id INTO p FROM Order_Items oi WHERE oi.id = OLD.order_item_id;\n",
    "    UPDATE Inventory SET quantity = quantity - OLD.quantity_delivered, last_updated = CURRENT_DATE\n",
    "      WHERE store_id = s AND product_id = p;\n",
    "\n",
    "    -- apply new\n",
    "    SELECT d.store_id INTO s FROM Deliveries d WHERE d.delivery_id = NEW.delivery_id;\n",
    "    SELECT oi.product_id INTO p FROM Order_Items oi WHERE oi.id = NEW.order_item_id;\n",
    "    UPDATE Inventory SET quantity = quantity + NEW.quantity_delivered, last_updated = CURRENT_DATE\n",
    "      WHERE store_id = s AND product_id = p;\n",
    "    IF NOT FOUND THEN\n",
    "      INSERT INTO Inventory (store_id, product_id, quantity, last_updated)\n",
    "      VALUES (s, p, NEW.quantity_delivered, CURRENT_DATE);\n",
    "    END IF;\n",
    "    RETURN NEW;\n",
    "  END IF;\n",
    "END;\n",
    "$$ LANGUAGE plpgsql;\n",
    "\n",
    "DROP TRIGGER IF EXISTS trg_delivery_items_inv ON Delivery_Items;\n",
    "CREATE TRIGGER trg_delivery_items_inv\n",
    "AFTER INSERT OR UPDATE OR DELETE ON Delivery_Items\n",
    "FOR EACH ROW EXECUTE FUNCTION inv_on_delivery_items();\n",
    "\"\"\"\n",
    "cur.execute(delivery_trigger)\n",
    "conn.commit()"
   ]
  }
 ],
 "metadata": {
  "kernelspec": {
   "display_name": "Python 3 (ipykernel)",
   "language": "python",
   "name": "python3"
  },
  "language_info": {
   "codemirror_mode": {
    "name": "ipython",
    "version": 3
   },
   "file_extension": ".py",
   "mimetype": "text/x-python",
   "name": "python",
   "nbconvert_exporter": "python",
   "pygments_lexer": "ipython3",
   "version": "3.13.5"
  }
 },
 "nbformat": 4,
 "nbformat_minor": 5
}
