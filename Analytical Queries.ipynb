{
 "cells": [
  {
   "cell_type": "markdown",
   "id": "b9eb7176-6a05-4940-8de3-2e05f992cf0f",
   "metadata": {},
   "source": [
    "### Connect to PostgreSQL database"
   ]
  },
  {
   "cell_type": "code",
   "execution_count": 1,
   "id": "1dbbf31e-dcc5-42f1-94d0-41bece1ebd48",
   "metadata": {},
   "outputs": [
    {
     "name": "stdout",
     "output_type": "stream",
     "text": [
      "Connection successful!\n"
     ]
    }
   ],
   "source": [
    "import psycopg2\n",
    "import pandas as pd\n",
    "\n",
    "try:\n",
    "    conn = psycopg2.connect(\n",
    "        dbname=\"project\", \n",
    "        user=\"postgres\",       \n",
    "        password=\"123\",   \n",
    "        host=\"localhost\",          \n",
    "        port=\"5432\"                \n",
    "    )\n",
    "    print(\"Connection successful!\")\n",
    "except Exception as e:\n",
    "    print(f\"Connection failed: {e}\")\n",
    "    \n",
    "cur = conn.cursor()"
   ]
  },
  {
   "cell_type": "markdown",
   "id": "912d3119-17d3-4e89-9e45-581a20f3655d",
   "metadata": {},
   "source": [
    "## 1. Daily Sales by Store and Category"
   ]
  },
  {
   "cell_type": "code",
   "execution_count": 2,
   "id": "00c41f48-177c-4f88-af21-ae85850f8295",
   "metadata": {},
   "outputs": [
    {
     "name": "stderr",
     "output_type": "stream",
     "text": [
      "C:\\Users\\dengx\\AppData\\Local\\Temp\\ipykernel_438544\\3525661512.py:11: UserWarning: pandas only supports SQLAlchemy connectable (engine/connection) or database string URI or sqlite3 DBAPI2 connection. Other DBAPI2 objects are not tested. Please consider using SQLAlchemy.\n",
      "  df1 = pd.read_sql_query(sql1, conn)\n"
     ]
    },
    {
     "data": {
      "text/html": [
       "<div>\n",
       "<style scoped>\n",
       "    .dataframe tbody tr th:only-of-type {\n",
       "        vertical-align: middle;\n",
       "    }\n",
       "\n",
       "    .dataframe tbody tr th {\n",
       "        vertical-align: top;\n",
       "    }\n",
       "\n",
       "    .dataframe thead th {\n",
       "        text-align: right;\n",
       "    }\n",
       "</style>\n",
       "<table border=\"1\" class=\"dataframe\">\n",
       "  <thead>\n",
       "    <tr style=\"text-align: right;\">\n",
       "      <th></th>\n",
       "      <th>store</th>\n",
       "      <th>category</th>\n",
       "      <th>sale_date</th>\n",
       "      <th>total_sales</th>\n",
       "    </tr>\n",
       "  </thead>\n",
       "  <tbody>\n",
       "    <tr>\n",
       "      <th>0</th>\n",
       "      <td>Harris, Lloyd and Payne</td>\n",
       "      <td>Furniture</td>\n",
       "      <td>2025-08-07</td>\n",
       "      <td>1081.41</td>\n",
       "    </tr>\n",
       "    <tr>\n",
       "      <th>1</th>\n",
       "      <td>Harris, Lloyd and Payne</td>\n",
       "      <td>Toys</td>\n",
       "      <td>2025-08-07</td>\n",
       "      <td>424.04</td>\n",
       "    </tr>\n",
       "    <tr>\n",
       "      <th>2</th>\n",
       "      <td>King, Carlson and Ramos</td>\n",
       "      <td>Food</td>\n",
       "      <td>2025-08-07</td>\n",
       "      <td>769.72</td>\n",
       "    </tr>\n",
       "    <tr>\n",
       "      <th>3</th>\n",
       "      <td>Todd, Mcdowell and Mclean</td>\n",
       "      <td>Electronics</td>\n",
       "      <td>2025-08-05</td>\n",
       "      <td>1740.50</td>\n",
       "    </tr>\n",
       "    <tr>\n",
       "      <th>4</th>\n",
       "      <td>Todd, Mcdowell and Mclean</td>\n",
       "      <td>Food</td>\n",
       "      <td>2025-08-05</td>\n",
       "      <td>248.86</td>\n",
       "    </tr>\n",
       "  </tbody>\n",
       "</table>\n",
       "</div>"
      ],
      "text/plain": [
       "                       store     category   sale_date  total_sales\n",
       "0    Harris, Lloyd and Payne    Furniture  2025-08-07      1081.41\n",
       "1    Harris, Lloyd and Payne         Toys  2025-08-07       424.04\n",
       "2    King, Carlson and Ramos         Food  2025-08-07       769.72\n",
       "3  Todd, Mcdowell and Mclean  Electronics  2025-08-05      1740.50\n",
       "4  Todd, Mcdowell and Mclean         Food  2025-08-05       248.86"
      ]
     },
     "execution_count": 2,
     "metadata": {},
     "output_type": "execute_result"
    }
   ],
   "source": [
    "sql1 = \"\"\"\n",
    "SELECT s.name AS store, p.category, DATE(t.transaction_date) AS sale_date,\n",
    "       SUM(ti.quantity * ti.unit_price) AS total_sales\n",
    "FROM Sales_Transactions t\n",
    "JOIN Transaction_Items ti ON t.transaction_id = ti.transaction_id\n",
    "JOIN Products p ON ti.product_id = p.product_id\n",
    "JOIN Stores s ON t.store_id = s.store_id\n",
    "GROUP BY s.name, p.category, DATE(t.transaction_date)\n",
    "ORDER BY sale_date DESC, store;\n",
    "\"\"\"\n",
    "df1 = pd.read_sql_query(sql1, conn)\n",
    "df1.head()"
   ]
  },
  {
   "cell_type": "markdown",
   "id": "7df3f4bd-6bc8-45fb-a5de-138c8eabc7f5",
   "metadata": {},
   "source": [
    "## 2. Top 10 Best-Selling Products (Last 30 Days)"
   ]
  },
  {
   "cell_type": "code",
   "execution_count": 3,
   "id": "539757dd-3ccb-4a1f-a1e1-a6a0b4f3369f",
   "metadata": {},
   "outputs": [
    {
     "name": "stderr",
     "output_type": "stream",
     "text": [
      "C:\\Users\\dengx\\AppData\\Local\\Temp\\ipykernel_438544\\2414524911.py:12: UserWarning: pandas only supports SQLAlchemy connectable (engine/connection) or database string URI or sqlite3 DBAPI2 connection. Other DBAPI2 objects are not tested. Please consider using SQLAlchemy.\n",
      "  df2 = pd.read_sql_query(sql2, conn)\n"
     ]
    },
    {
     "data": {
      "text/html": [
       "<div>\n",
       "<style scoped>\n",
       "    .dataframe tbody tr th:only-of-type {\n",
       "        vertical-align: middle;\n",
       "    }\n",
       "\n",
       "    .dataframe tbody tr th {\n",
       "        vertical-align: top;\n",
       "    }\n",
       "\n",
       "    .dataframe thead th {\n",
       "        text-align: right;\n",
       "    }\n",
       "</style>\n",
       "<table border=\"1\" class=\"dataframe\">\n",
       "  <thead>\n",
       "    <tr style=\"text-align: right;\">\n",
       "      <th></th>\n",
       "      <th>name</th>\n",
       "      <th>units_sold</th>\n",
       "    </tr>\n",
       "  </thead>\n",
       "  <tbody>\n",
       "    <tr>\n",
       "      <th>0</th>\n",
       "      <td>Bacon</td>\n",
       "      <td>11</td>\n",
       "    </tr>\n",
       "    <tr>\n",
       "      <th>1</th>\n",
       "      <td>Cotton Chicken</td>\n",
       "      <td>6</td>\n",
       "    </tr>\n",
       "    <tr>\n",
       "      <th>2</th>\n",
       "      <td>Cotton Mouse</td>\n",
       "      <td>5</td>\n",
       "    </tr>\n",
       "    <tr>\n",
       "      <th>3</th>\n",
       "      <td>Small Hat</td>\n",
       "      <td>5</td>\n",
       "    </tr>\n",
       "    <tr>\n",
       "      <th>4</th>\n",
       "      <td>Soft Salad</td>\n",
       "      <td>5</td>\n",
       "    </tr>\n",
       "  </tbody>\n",
       "</table>\n",
       "</div>"
      ],
      "text/plain": [
       "             name  units_sold\n",
       "0           Bacon          11\n",
       "1  Cotton Chicken           6\n",
       "2    Cotton Mouse           5\n",
       "3       Small Hat           5\n",
       "4      Soft Salad           5"
      ]
     },
     "execution_count": 3,
     "metadata": {},
     "output_type": "execute_result"
    }
   ],
   "source": [
    "category = None\n",
    "sql2 = \"\"\"\n",
    "SELECT p.name, SUM(ti.quantity) AS units_sold\n",
    "FROM Transaction_Items ti\n",
    "JOIN Products p ON ti.product_id = p.product_id\n",
    "JOIN Sales_Transactions t ON ti.transaction_id = t.transaction_id\n",
    "WHERE t.transaction_date >= CURRENT_DATE - INTERVAL '30 days'\n",
    "GROUP BY p.name\n",
    "ORDER BY units_sold DESC\n",
    "LIMIT 10;\n",
    "\"\"\"\n",
    "df2 = pd.read_sql_query(sql2, conn)\n",
    "df2.head()"
   ]
  },
  {
   "cell_type": "markdown",
   "id": "819d7358-9e49-4300-bd88-6282e47c5fbe",
   "metadata": {},
   "source": [
    "## 3. Salesperson Performance Analysis"
   ]
  },
  {
   "cell_type": "code",
   "execution_count": 4,
   "id": "8178c9fa-b1b9-4497-b7c2-a3d0815ebd49",
   "metadata": {},
   "outputs": [
    {
     "name": "stderr",
     "output_type": "stream",
     "text": [
      "C:\\Users\\dengx\\AppData\\Local\\Temp\\ipykernel_438544\\952030927.py:10: UserWarning: pandas only supports SQLAlchemy connectable (engine/connection) or database string URI or sqlite3 DBAPI2 connection. Other DBAPI2 objects are not tested. Please consider using SQLAlchemy.\n",
      "  df3 = pd.read_sql_query(sql3, conn)\n"
     ]
    },
    {
     "data": {
      "text/html": [
       "<div>\n",
       "<style scoped>\n",
       "    .dataframe tbody tr th:only-of-type {\n",
       "        vertical-align: middle;\n",
       "    }\n",
       "\n",
       "    .dataframe tbody tr th {\n",
       "        vertical-align: top;\n",
       "    }\n",
       "\n",
       "    .dataframe thead th {\n",
       "        text-align: right;\n",
       "    }\n",
       "</style>\n",
       "<table border=\"1\" class=\"dataframe\">\n",
       "  <thead>\n",
       "    <tr style=\"text-align: right;\">\n",
       "      <th></th>\n",
       "      <th>employee</th>\n",
       "      <th>total_sales</th>\n",
       "      <th>transactions</th>\n",
       "    </tr>\n",
       "  </thead>\n",
       "  <tbody>\n",
       "    <tr>\n",
       "      <th>0</th>\n",
       "      <td>Michelle Parks</td>\n",
       "      <td>16009.31</td>\n",
       "      <td>6</td>\n",
       "    </tr>\n",
       "    <tr>\n",
       "      <th>1</th>\n",
       "      <td>Alan Hayden</td>\n",
       "      <td>14026.31</td>\n",
       "      <td>8</td>\n",
       "    </tr>\n",
       "    <tr>\n",
       "      <th>2</th>\n",
       "      <td>Tracey Martinez</td>\n",
       "      <td>12421.42</td>\n",
       "      <td>5</td>\n",
       "    </tr>\n",
       "    <tr>\n",
       "      <th>3</th>\n",
       "      <td>Sarah Hernandez</td>\n",
       "      <td>11825.36</td>\n",
       "      <td>6</td>\n",
       "    </tr>\n",
       "    <tr>\n",
       "      <th>4</th>\n",
       "      <td>Michelle Campbell</td>\n",
       "      <td>11150.83</td>\n",
       "      <td>5</td>\n",
       "    </tr>\n",
       "  </tbody>\n",
       "</table>\n",
       "</div>"
      ],
      "text/plain": [
       "            employee  total_sales  transactions\n",
       "0     Michelle Parks     16009.31             6\n",
       "1        Alan Hayden     14026.31             8\n",
       "2    Tracey Martinez     12421.42             5\n",
       "3    Sarah Hernandez     11825.36             6\n",
       "4  Michelle Campbell     11150.83             5"
      ]
     },
     "execution_count": 4,
     "metadata": {},
     "output_type": "execute_result"
    }
   ],
   "source": [
    "sql3 = \"\"\"\n",
    "SELECT e.first_name || ' ' || e.last_name AS employee,\n",
    "       SUM(t.total_amount) AS total_sales,\n",
    "       COUNT(DISTINCT t.transaction_id) AS transactions\n",
    "FROM Sales_Transactions t\n",
    "JOIN Employees e ON t.employee_id = e.employee_id\n",
    "GROUP BY employee\n",
    "ORDER BY total_sales DESC;\n",
    "\"\"\"\n",
    "df3 = pd.read_sql_query(sql3, conn)\n",
    "df3.head()"
   ]
  },
  {
   "cell_type": "markdown",
   "id": "85046430-68f5-4248-9696-3d1ac9d2cd38",
   "metadata": {},
   "source": [
    "## 4. Customer Purchase Frequency and Recency (RFM Analysis)"
   ]
  },
  {
   "cell_type": "code",
   "execution_count": 5,
   "id": "a7e41f76-53ea-4360-8a5c-4bad0d5cd12d",
   "metadata": {},
   "outputs": [
    {
     "name": "stderr",
     "output_type": "stream",
     "text": [
      "C:\\Users\\dengx\\AppData\\Local\\Temp\\ipykernel_438544\\105404546.py:11: UserWarning: pandas only supports SQLAlchemy connectable (engine/connection) or database string URI or sqlite3 DBAPI2 connection. Other DBAPI2 objects are not tested. Please consider using SQLAlchemy.\n",
      "  df4 = pd.read_sql_query(sql4, conn)\n"
     ]
    },
    {
     "data": {
      "text/html": [
       "<div>\n",
       "<style scoped>\n",
       "    .dataframe tbody tr th:only-of-type {\n",
       "        vertical-align: middle;\n",
       "    }\n",
       "\n",
       "    .dataframe tbody tr th {\n",
       "        vertical-align: top;\n",
       "    }\n",
       "\n",
       "    .dataframe thead th {\n",
       "        text-align: right;\n",
       "    }\n",
       "</style>\n",
       "<table border=\"1\" class=\"dataframe\">\n",
       "  <thead>\n",
       "    <tr style=\"text-align: right;\">\n",
       "      <th></th>\n",
       "      <th>customer_id</th>\n",
       "      <th>first_name</th>\n",
       "      <th>last_name</th>\n",
       "      <th>last_purchase</th>\n",
       "      <th>purchase_count</th>\n",
       "      <th>total_spent</th>\n",
       "    </tr>\n",
       "  </thead>\n",
       "  <tbody>\n",
       "    <tr>\n",
       "      <th>0</th>\n",
       "      <td>55</td>\n",
       "      <td>Paula</td>\n",
       "      <td>Sanchez</td>\n",
       "      <td>NaT</td>\n",
       "      <td>0</td>\n",
       "      <td>NaN</td>\n",
       "    </tr>\n",
       "    <tr>\n",
       "      <th>1</th>\n",
       "      <td>182384550</td>\n",
       "      <td>Bryan</td>\n",
       "      <td>Fowler</td>\n",
       "      <td>NaT</td>\n",
       "      <td>0</td>\n",
       "      <td>NaN</td>\n",
       "    </tr>\n",
       "    <tr>\n",
       "      <th>2</th>\n",
       "      <td>4</td>\n",
       "      <td>Matthew</td>\n",
       "      <td>Rojas</td>\n",
       "      <td>NaT</td>\n",
       "      <td>0</td>\n",
       "      <td>NaN</td>\n",
       "    </tr>\n",
       "    <tr>\n",
       "      <th>3</th>\n",
       "      <td>4332786</td>\n",
       "      <td>Jessica</td>\n",
       "      <td>Stafford</td>\n",
       "      <td>NaT</td>\n",
       "      <td>0</td>\n",
       "      <td>NaN</td>\n",
       "    </tr>\n",
       "    <tr>\n",
       "      <th>4</th>\n",
       "      <td>797</td>\n",
       "      <td>Eric</td>\n",
       "      <td>Buchanan</td>\n",
       "      <td>NaT</td>\n",
       "      <td>0</td>\n",
       "      <td>NaN</td>\n",
       "    </tr>\n",
       "  </tbody>\n",
       "</table>\n",
       "</div>"
      ],
      "text/plain": [
       "   customer_id first_name last_name last_purchase  purchase_count  total_spent\n",
       "0           55      Paula   Sanchez           NaT               0          NaN\n",
       "1    182384550      Bryan    Fowler           NaT               0          NaN\n",
       "2            4    Matthew     Rojas           NaT               0          NaN\n",
       "3      4332786    Jessica  Stafford           NaT               0          NaN\n",
       "4          797       Eric  Buchanan           NaT               0          NaN"
      ]
     },
     "execution_count": 5,
     "metadata": {},
     "output_type": "execute_result"
    }
   ],
   "source": [
    "sql4 = \"\"\"\n",
    "SELECT c.customer_id, c.first_name, c.last_name,\n",
    "       MAX(t.transaction_date) AS last_purchase,\n",
    "       COUNT(t.transaction_id) AS purchase_count,\n",
    "       SUM(t.total_amount) AS total_spent\n",
    "FROM Customers c\n",
    "LEFT JOIN Sales_Transactions t ON c.customer_id = t.customer_id\n",
    "GROUP BY c.customer_id\n",
    "ORDER BY last_purchase DESC;\n",
    "\"\"\"\n",
    "df4 = pd.read_sql_query(sql4, conn)\n",
    "df4.head()"
   ]
  },
  {
   "cell_type": "markdown",
   "id": "7fb80ec2-1b51-4b0b-b943-35cb8128c34e",
   "metadata": {},
   "source": [
    "## 5. Product Affinity — Frequently Bought Together"
   ]
  },
  {
   "cell_type": "code",
   "execution_count": 6,
   "id": "59494906-f1e9-4258-b08a-6860fd6670ba",
   "metadata": {},
   "outputs": [
    {
     "name": "stderr",
     "output_type": "stream",
     "text": [
      "C:\\Users\\dengx\\AppData\\Local\\Temp\\ipykernel_438544\\380978017.py:12: UserWarning: pandas only supports SQLAlchemy connectable (engine/connection) or database string URI or sqlite3 DBAPI2 connection. Other DBAPI2 objects are not tested. Please consider using SQLAlchemy.\n",
      "  df5 = pd.read_sql_query(sql5, conn)\n"
     ]
    },
    {
     "data": {
      "text/html": [
       "<div>\n",
       "<style scoped>\n",
       "    .dataframe tbody tr th:only-of-type {\n",
       "        vertical-align: middle;\n",
       "    }\n",
       "\n",
       "    .dataframe tbody tr th {\n",
       "        vertical-align: top;\n",
       "    }\n",
       "\n",
       "    .dataframe thead th {\n",
       "        text-align: right;\n",
       "    }\n",
       "</style>\n",
       "<table border=\"1\" class=\"dataframe\">\n",
       "  <thead>\n",
       "    <tr style=\"text-align: right;\">\n",
       "      <th></th>\n",
       "      <th>product_a</th>\n",
       "      <th>product_b</th>\n",
       "      <th>times_bought_together</th>\n",
       "    </tr>\n",
       "  </thead>\n",
       "  <tbody>\n",
       "    <tr>\n",
       "      <th>0</th>\n",
       "      <td>73184</td>\n",
       "      <td>634587</td>\n",
       "      <td>3</td>\n",
       "    </tr>\n",
       "    <tr>\n",
       "      <th>1</th>\n",
       "      <td>941</td>\n",
       "      <td>634587</td>\n",
       "      <td>3</td>\n",
       "    </tr>\n",
       "    <tr>\n",
       "      <th>2</th>\n",
       "      <td>36097064</td>\n",
       "      <td>813731358</td>\n",
       "      <td>3</td>\n",
       "    </tr>\n",
       "    <tr>\n",
       "      <th>3</th>\n",
       "      <td>73184</td>\n",
       "      <td>36097064</td>\n",
       "      <td>3</td>\n",
       "    </tr>\n",
       "    <tr>\n",
       "      <th>4</th>\n",
       "      <td>159</td>\n",
       "      <td>36097064</td>\n",
       "      <td>3</td>\n",
       "    </tr>\n",
       "  </tbody>\n",
       "</table>\n",
       "</div>"
      ],
      "text/plain": [
       "   product_a  product_b  times_bought_together\n",
       "0      73184     634587                      3\n",
       "1        941     634587                      3\n",
       "2   36097064  813731358                      3\n",
       "3      73184   36097064                      3\n",
       "4        159   36097064                      3"
      ]
     },
     "execution_count": 6,
     "metadata": {},
     "output_type": "execute_result"
    }
   ],
   "source": [
    "sql5 = \"\"\"\n",
    "SELECT a.product_id AS product_a, b.product_id AS product_b,\n",
    "       COUNT(*) AS times_bought_together\n",
    "FROM Transaction_Items a\n",
    "JOIN Transaction_Items b \n",
    "  ON a.transaction_id = b.transaction_id\n",
    " AND a.product_id < b.product_id\n",
    "GROUP BY a.product_id, b.product_id\n",
    "ORDER BY times_bought_together DESC\n",
    "LIMIT 10;\n",
    "\"\"\"\n",
    "df5 = pd.read_sql_query(sql5, conn)\n",
    "df5.head()"
   ]
  },
  {
   "cell_type": "markdown",
   "id": "76c3008a-0f54-4dc4-aede-6fc0259f62f5",
   "metadata": {},
   "source": [
    "## 6. Inventory Turnover Rate by Product"
   ]
  },
  {
   "cell_type": "code",
   "execution_count": 7,
   "id": "17a30bfc-cc66-45cb-a11a-e0e6de45113b",
   "metadata": {},
   "outputs": [
    {
     "name": "stderr",
     "output_type": "stream",
     "text": [
      "C:\\Users\\dengx\\AppData\\Local\\Temp\\ipykernel_438544\\2112646571.py:10: UserWarning: pandas only supports SQLAlchemy connectable (engine/connection) or database string URI or sqlite3 DBAPI2 connection. Other DBAPI2 objects are not tested. Please consider using SQLAlchemy.\n",
      "  df6 = pd.read_sql_query(sql6, conn)\n"
     ]
    },
    {
     "data": {
      "text/html": [
       "<div>\n",
       "<style scoped>\n",
       "    .dataframe tbody tr th:only-of-type {\n",
       "        vertical-align: middle;\n",
       "    }\n",
       "\n",
       "    .dataframe tbody tr th {\n",
       "        vertical-align: top;\n",
       "    }\n",
       "\n",
       "    .dataframe thead th {\n",
       "        text-align: right;\n",
       "    }\n",
       "</style>\n",
       "<table border=\"1\" class=\"dataframe\">\n",
       "  <thead>\n",
       "    <tr style=\"text-align: right;\">\n",
       "      <th></th>\n",
       "      <th>name</th>\n",
       "      <th>turnover_rate</th>\n",
       "    </tr>\n",
       "  </thead>\n",
       "  <tbody>\n",
       "    <tr>\n",
       "      <th>0</th>\n",
       "      <td>Gorgeous Bike</td>\n",
       "      <td>NaN</td>\n",
       "    </tr>\n",
       "    <tr>\n",
       "      <th>1</th>\n",
       "      <td>Generic Shirt</td>\n",
       "      <td>11.654676</td>\n",
       "    </tr>\n",
       "    <tr>\n",
       "      <th>2</th>\n",
       "      <td>Cheese</td>\n",
       "      <td>10.596026</td>\n",
       "    </tr>\n",
       "    <tr>\n",
       "      <th>3</th>\n",
       "      <td>Small Hat</td>\n",
       "      <td>8.684825</td>\n",
       "    </tr>\n",
       "    <tr>\n",
       "      <th>4</th>\n",
       "      <td>Mouse</td>\n",
       "      <td>7.043478</td>\n",
       "    </tr>\n",
       "  </tbody>\n",
       "</table>\n",
       "</div>"
      ],
      "text/plain": [
       "            name  turnover_rate\n",
       "0  Gorgeous Bike            NaN\n",
       "1  Generic Shirt      11.654676\n",
       "2         Cheese      10.596026\n",
       "3      Small Hat       8.684825\n",
       "4          Mouse       7.043478"
      ]
     },
     "execution_count": 7,
     "metadata": {},
     "output_type": "execute_result"
    }
   ],
   "source": [
    "sql6 = \"\"\"\n",
    "SELECT p.name, \n",
    "       SUM(ti.quantity) / NULLIF(AVG(inv.quantity), 0) AS turnover_rate\n",
    "FROM Transaction_Items ti\n",
    "JOIN Products p ON ti.product_id = p.product_id\n",
    "JOIN Inventory inv ON p.product_id = inv.product_id\n",
    "GROUP BY p.name\n",
    "ORDER BY turnover_rate DESC;\n",
    "\"\"\"\n",
    "df6 = pd.read_sql_query(sql6, conn)\n",
    "df6.head()"
   ]
  },
  {
   "cell_type": "markdown",
   "id": "20d20ea7-4c73-46b0-9c9a-364a4265aa2a",
   "metadata": {},
   "source": [
    "## 7. Promotion Effectiveness"
   ]
  },
  {
   "cell_type": "code",
   "execution_count": 8,
   "id": "15759a6b-23f6-4a35-8d8b-dc0735e3385a",
   "metadata": {},
   "outputs": [
    {
     "name": "stderr",
     "output_type": "stream",
     "text": [
      "C:\\Users\\dengx\\AppData\\Local\\Temp\\ipykernel_438544\\2454285733.py:13: UserWarning: pandas only supports SQLAlchemy connectable (engine/connection) or database string URI or sqlite3 DBAPI2 connection. Other DBAPI2 objects are not tested. Please consider using SQLAlchemy.\n",
      "  df7 = pd.read_sql_query(sql7, conn)\n"
     ]
    },
    {
     "data": {
      "text/html": [
       "<div>\n",
       "<style scoped>\n",
       "    .dataframe tbody tr th:only-of-type {\n",
       "        vertical-align: middle;\n",
       "    }\n",
       "\n",
       "    .dataframe tbody tr th {\n",
       "        vertical-align: top;\n",
       "    }\n",
       "\n",
       "    .dataframe thead th {\n",
       "        text-align: right;\n",
       "    }\n",
       "</style>\n",
       "<table border=\"1\" class=\"dataframe\">\n",
       "  <thead>\n",
       "    <tr style=\"text-align: right;\">\n",
       "      <th></th>\n",
       "      <th>promo_id</th>\n",
       "      <th>name</th>\n",
       "      <th>units_sold_during</th>\n",
       "      <th>units_sold_outside</th>\n",
       "    </tr>\n",
       "  </thead>\n",
       "  <tbody>\n",
       "    <tr>\n",
       "      <th>0</th>\n",
       "      <td>8</td>\n",
       "      <td>Unbranded Granite Tuna</td>\n",
       "      <td>2</td>\n",
       "      <td>15</td>\n",
       "    </tr>\n",
       "    <tr>\n",
       "      <th>1</th>\n",
       "      <td>16</td>\n",
       "      <td>Used Concrete Pants</td>\n",
       "      <td>8</td>\n",
       "      <td>6</td>\n",
       "    </tr>\n",
       "    <tr>\n",
       "      <th>2</th>\n",
       "      <td>20</td>\n",
       "      <td>Soft Salad</td>\n",
       "      <td>10</td>\n",
       "      <td>8</td>\n",
       "    </tr>\n",
       "    <tr>\n",
       "      <th>3</th>\n",
       "      <td>2</td>\n",
       "      <td>Cotton Chicken</td>\n",
       "      <td>0</td>\n",
       "      <td>12</td>\n",
       "    </tr>\n",
       "    <tr>\n",
       "      <th>4</th>\n",
       "      <td>15</td>\n",
       "      <td>Generic Metal Tuna</td>\n",
       "      <td>0</td>\n",
       "      <td>9</td>\n",
       "    </tr>\n",
       "  </tbody>\n",
       "</table>\n",
       "</div>"
      ],
      "text/plain": [
       "   promo_id                    name  units_sold_during  units_sold_outside\n",
       "0         8  Unbranded Granite Tuna                  2                  15\n",
       "1        16     Used Concrete Pants                  8                   6\n",
       "2        20              Soft Salad                 10                   8\n",
       "3         2          Cotton Chicken                  0                  12\n",
       "4        15      Generic Metal Tuna                  0                   9"
      ]
     },
     "execution_count": 8,
     "metadata": {},
     "output_type": "execute_result"
    }
   ],
   "source": [
    "sql7 = \"\"\"\n",
    "SELECT pr.promo_id, p.name,\n",
    "       SUM(CASE WHEN t.transaction_date BETWEEN pr.start_date AND pr.end_date \n",
    "                THEN ti.quantity ELSE 0 END) AS units_sold_during,\n",
    "       SUM(CASE WHEN t.transaction_date NOT BETWEEN pr.start_date AND pr.end_date \n",
    "                THEN ti.quantity ELSE 0 END) AS units_sold_outside\n",
    "FROM Promotions pr\n",
    "JOIN Products p ON pr.product_id = p.product_id\n",
    "JOIN Transaction_Items ti ON p.product_id = ti.product_id\n",
    "JOIN Sales_Transactions t ON ti.transaction_id = t.transaction_id\n",
    "GROUP BY pr.promo_id, p.name;\n",
    "\"\"\"\n",
    "df7 = pd.read_sql_query(sql7, conn)\n",
    "df7.head()"
   ]
  },
  {
   "cell_type": "markdown",
   "id": "8a3dffe4-5c8b-4d8e-892d-0501e658a692",
   "metadata": {},
   "source": [
    "## 8. On-Time Delivery Rate by Vendor"
   ]
  },
  {
   "cell_type": "code",
   "execution_count": 9,
   "id": "e369a129-7fbb-4b60-81fb-20178243c724",
   "metadata": {},
   "outputs": [
    {
     "name": "stderr",
     "output_type": "stream",
     "text": [
      "C:\\Users\\dengx\\AppData\\Local\\Temp\\ipykernel_438544\\2645180439.py:9: UserWarning: pandas only supports SQLAlchemy connectable (engine/connection) or database string URI or sqlite3 DBAPI2 connection. Other DBAPI2 objects are not tested. Please consider using SQLAlchemy.\n",
      "  df8 = pd.read_sql_query(sql8, conn)\n"
     ]
    },
    {
     "data": {
      "text/html": [
       "<div>\n",
       "<style scoped>\n",
       "    .dataframe tbody tr th:only-of-type {\n",
       "        vertical-align: middle;\n",
       "    }\n",
       "\n",
       "    .dataframe tbody tr th {\n",
       "        vertical-align: top;\n",
       "    }\n",
       "\n",
       "    .dataframe thead th {\n",
       "        text-align: right;\n",
       "    }\n",
       "</style>\n",
       "<table border=\"1\" class=\"dataframe\">\n",
       "  <thead>\n",
       "    <tr style=\"text-align: right;\">\n",
       "      <th></th>\n",
       "      <th>vendor</th>\n",
       "      <th>on_time_percentage</th>\n",
       "    </tr>\n",
       "  </thead>\n",
       "  <tbody>\n",
       "    <tr>\n",
       "      <th>0</th>\n",
       "      <td>Gibson Ltd</td>\n",
       "      <td>100.000000</td>\n",
       "    </tr>\n",
       "    <tr>\n",
       "      <th>1</th>\n",
       "      <td>Crawford LLC</td>\n",
       "      <td>100.000000</td>\n",
       "    </tr>\n",
       "    <tr>\n",
       "      <th>2</th>\n",
       "      <td>Chan, Hale and Fisher</td>\n",
       "      <td>44.444444</td>\n",
       "    </tr>\n",
       "    <tr>\n",
       "      <th>3</th>\n",
       "      <td>Allen Ltd</td>\n",
       "      <td>100.000000</td>\n",
       "    </tr>\n",
       "    <tr>\n",
       "      <th>4</th>\n",
       "      <td>Willis, York and Yates</td>\n",
       "      <td>50.000000</td>\n",
       "    </tr>\n",
       "  </tbody>\n",
       "</table>\n",
       "</div>"
      ],
      "text/plain": [
       "                   vendor  on_time_percentage\n",
       "0              Gibson Ltd          100.000000\n",
       "1            Crawford LLC          100.000000\n",
       "2   Chan, Hale and Fisher           44.444444\n",
       "3               Allen Ltd          100.000000\n",
       "4  Willis, York and Yates           50.000000"
      ]
     },
     "execution_count": 9,
     "metadata": {},
     "output_type": "execute_result"
    }
   ],
   "source": [
    "sql8 = \"\"\"\n",
    "SELECT v.name AS vendor,\n",
    "       COUNT(*) FILTER (WHERE d.delivered_at <= o.order_date + INTERVAL '7 days') * 100.0 / COUNT(*) AS on_time_percentage\n",
    "FROM Deliveries d\n",
    "JOIN Orders o ON d.order_id = o.order_id\n",
    "JOIN Vendors v ON o.vendor_id = v.vendor_id\n",
    "GROUP BY v.name;\n",
    "\"\"\"\n",
    "df8 = pd.read_sql_query(sql8, conn)\n",
    "df8.head()"
   ]
  },
  {
   "cell_type": "markdown",
   "id": "e603c311-3f24-49d7-abd8-4e10adf4efb2",
   "metadata": {},
   "source": [
    "## 9. Store-Level Profitability Estimation"
   ]
  },
  {
   "cell_type": "code",
   "execution_count": 10,
   "id": "3f662f17-a144-4cf9-b13c-75cec2204e03",
   "metadata": {},
   "outputs": [
    {
     "name": "stderr",
     "output_type": "stream",
     "text": [
      "C:\\Users\\dengx\\AppData\\Local\\Temp\\ipykernel_438544\\1886012740.py:10: UserWarning: pandas only supports SQLAlchemy connectable (engine/connection) or database string URI or sqlite3 DBAPI2 connection. Other DBAPI2 objects are not tested. Please consider using SQLAlchemy.\n",
      "  df9 = pd.read_sql_query(sql9, conn)\n"
     ]
    },
    {
     "data": {
      "text/html": [
       "<div>\n",
       "<style scoped>\n",
       "    .dataframe tbody tr th:only-of-type {\n",
       "        vertical-align: middle;\n",
       "    }\n",
       "\n",
       "    .dataframe tbody tr th {\n",
       "        vertical-align: top;\n",
       "    }\n",
       "\n",
       "    .dataframe thead th {\n",
       "        text-align: right;\n",
       "    }\n",
       "</style>\n",
       "<table border=\"1\" class=\"dataframe\">\n",
       "  <thead>\n",
       "    <tr style=\"text-align: right;\">\n",
       "      <th></th>\n",
       "      <th>name</th>\n",
       "      <th>estimated_profit</th>\n",
       "    </tr>\n",
       "  </thead>\n",
       "  <tbody>\n",
       "    <tr>\n",
       "      <th>0</th>\n",
       "      <td>King, Carlson and Ramos</td>\n",
       "      <td>10040.924</td>\n",
       "    </tr>\n",
       "    <tr>\n",
       "      <th>1</th>\n",
       "      <td>Harris, Lloyd and Payne</td>\n",
       "      <td>8865.884</td>\n",
       "    </tr>\n",
       "    <tr>\n",
       "      <th>2</th>\n",
       "      <td>Todd, Mcdowell and Mclean</td>\n",
       "      <td>18543.484</td>\n",
       "    </tr>\n",
       "    <tr>\n",
       "      <th>3</th>\n",
       "      <td>Gill Group</td>\n",
       "      <td>7707.720</td>\n",
       "    </tr>\n",
       "    <tr>\n",
       "      <th>4</th>\n",
       "      <td>Jones, Martinez and Lopez</td>\n",
       "      <td>10883.500</td>\n",
       "    </tr>\n",
       "  </tbody>\n",
       "</table>\n",
       "</div>"
      ],
      "text/plain": [
       "                        name  estimated_profit\n",
       "0    King, Carlson and Ramos         10040.924\n",
       "1    Harris, Lloyd and Payne          8865.884\n",
       "2  Todd, Mcdowell and Mclean         18543.484\n",
       "3                 Gill Group          7707.720\n",
       "4  Jones, Martinez and Lopez         10883.500"
      ]
     },
     "execution_count": 10,
     "metadata": {},
     "output_type": "execute_result"
    }
   ],
   "source": [
    "sql9 = \"\"\"\n",
    "SELECT s.name,\n",
    "       SUM(ti.quantity * (ti.unit_price - p.unit_price * 0.6)) AS estimated_profit\n",
    "FROM Transaction_Items ti\n",
    "JOIN Products p ON ti.product_id = p.product_id\n",
    "JOIN Sales_Transactions t ON ti.transaction_id = t.transaction_id\n",
    "JOIN Stores s ON t.store_id = s.store_id\n",
    "GROUP BY s.name;\n",
    "\"\"\"\n",
    "df9 = pd.read_sql_query(sql9, conn)\n",
    "df9.head()"
   ]
  },
  {
   "cell_type": "markdown",
   "id": "897012b2-cdb1-4ebd-9371-73e2393ded49",
   "metadata": {},
   "source": [
    "## 10. Shift Coverage Gaps"
   ]
  },
  {
   "cell_type": "code",
   "execution_count": 11,
   "id": "55b29ebf-9e1c-4358-83b2-c842f134f5ed",
   "metadata": {},
   "outputs": [
    {
     "name": "stderr",
     "output_type": "stream",
     "text": [
      "C:\\Users\\dengx\\AppData\\Local\\Temp\\ipykernel_438544\\2108923852.py:10: UserWarning: pandas only supports SQLAlchemy connectable (engine/connection) or database string URI or sqlite3 DBAPI2 connection. Other DBAPI2 objects are not tested. Please consider using SQLAlchemy.\n",
      "  df10 = pd.read_sql_query(sql10, conn)\n"
     ]
    },
    {
     "data": {
      "text/html": [
       "<div>\n",
       "<style scoped>\n",
       "    .dataframe tbody tr th:only-of-type {\n",
       "        vertical-align: middle;\n",
       "    }\n",
       "\n",
       "    .dataframe tbody tr th {\n",
       "        vertical-align: top;\n",
       "    }\n",
       "\n",
       "    .dataframe thead th {\n",
       "        text-align: right;\n",
       "    }\n",
       "</style>\n",
       "<table border=\"1\" class=\"dataframe\">\n",
       "  <thead>\n",
       "    <tr style=\"text-align: right;\">\n",
       "      <th></th>\n",
       "      <th>store_id</th>\n",
       "      <th>shift_date</th>\n",
       "      <th>num_employees</th>\n",
       "    </tr>\n",
       "  </thead>\n",
       "  <tbody>\n",
       "    <tr>\n",
       "      <th>0</th>\n",
       "      <td>1702891</td>\n",
       "      <td>2025-05-18</td>\n",
       "      <td>1</td>\n",
       "    </tr>\n",
       "    <tr>\n",
       "      <th>1</th>\n",
       "      <td>350</td>\n",
       "      <td>2025-05-19</td>\n",
       "      <td>1</td>\n",
       "    </tr>\n",
       "    <tr>\n",
       "      <th>2</th>\n",
       "      <td>1702891</td>\n",
       "      <td>2025-05-19</td>\n",
       "      <td>1</td>\n",
       "    </tr>\n",
       "    <tr>\n",
       "      <th>3</th>\n",
       "      <td>1702891</td>\n",
       "      <td>2025-05-20</td>\n",
       "      <td>1</td>\n",
       "    </tr>\n",
       "    <tr>\n",
       "      <th>4</th>\n",
       "      <td>7056020</td>\n",
       "      <td>2025-05-21</td>\n",
       "      <td>1</td>\n",
       "    </tr>\n",
       "  </tbody>\n",
       "</table>\n",
       "</div>"
      ],
      "text/plain": [
       "   store_id  shift_date  num_employees\n",
       "0   1702891  2025-05-18              1\n",
       "1       350  2025-05-19              1\n",
       "2   1702891  2025-05-19              1\n",
       "3   1702891  2025-05-20              1\n",
       "4   7056020  2025-05-21              1"
      ]
     },
     "execution_count": 11,
     "metadata": {},
     "output_type": "execute_result"
    }
   ],
   "source": [
    "sql10 = \"\"\"\n",
    "SELECT store_id, \n",
    "       DATE(start_time) AS shift_date,\n",
    "       COUNT(*) AS num_employees\n",
    "FROM Shifts\n",
    "GROUP BY store_id, DATE(start_time)\n",
    "HAVING COUNT(*) < 3\n",
    "ORDER BY shift_date;\n",
    "\"\"\"\n",
    "df10 = pd.read_sql_query(sql10, conn)\n",
    "df10.head()"
   ]
  }
 ],
 "metadata": {
  "kernelspec": {
   "display_name": "Python 3",
   "language": "python",
   "name": "python3"
  },
  "language_info": {
   "codemirror_mode": {
    "name": "ipython",
    "version": 3
   },
   "file_extension": ".py",
   "mimetype": "text/x-python",
   "name": "python",
   "nbconvert_exporter": "python",
   "pygments_lexer": "ipython3",
   "version": "3.13.3"
  }
 },
 "nbformat": 4,
 "nbformat_minor": 5
}
